{
 "cells": [
  {
   "cell_type": "code",
   "execution_count": 34,
   "metadata": {},
   "outputs": [
    {
     "name": "stdout",
     "output_type": "stream",
     "text": [
      "The autoreload extension is already loaded. To reload it, use:\n",
      "  %reload_ext autoreload\n"
     ]
    }
   ],
   "source": [
    "from collections import defaultdict\n",
    "import itertools\n",
    "import string\n",
    "import re\n",
    "\n",
    "import matplotlib.pyplot as plt\n",
    "import numpy as np\n",
    "\n",
    "import sys\n",
    "sys.path.append('..')\n",
    "from text_recognizer.models.line_cnn import LineCnn\n",
    "from text_recognizer.datasets.emnist_lines import EmnistLinesDataset\n",
    "\n",
    "%load_ext autoreload\n",
    "%autoreload 2\n",
    "%matplotlib inline"
   ]
  },
  {
   "cell_type": "code",
   "execution_count": 36,
   "metadata": {},
   "outputs": [
    {
     "name": "stdout",
     "output_type": "stream",
     "text": [
      "_________________________________________________________________\n",
      "Layer (type)                 Output Shape              Param #   \n",
      "=================================================================\n",
      "input_5 (InputLayer)         (None, 28, 896)           0         \n",
      "_________________________________________________________________\n",
      "reshape_2 (Reshape)          (None, 28, 32, 28, 1)     0         \n",
      "_________________________________________________________________\n",
      "permute_2 (Permute)          (None, 32, 28, 28, 1)     0         \n",
      "_________________________________________________________________\n",
      "time_distributed_2 (TimeDist (None, 32, 65)            1206977   \n",
      "=================================================================\n",
      "Total params: 1,206,977\n",
      "Trainable params: 1,206,977\n",
      "Non-trainable params: 0\n",
      "_________________________________________________________________\n"
     ]
    }
   ],
   "source": [
    "model = LineCnn()"
   ]
  },
  {
   "cell_type": "code",
   "execution_count": 37,
   "metadata": {},
   "outputs": [],
   "source": [
    "dataset = EmnistLinesDataset()"
   ]
  },
  {
   "cell_type": "code",
   "execution_count": 38,
   "metadata": {},
   "outputs": [
    {
     "name": "stdout",
     "output_type": "stream",
     "text": [
      "Train on 75 samples, validate on 25 samples\n",
      "Epoch 1/10\n",
      "75/75 [==============================] - 3s 35ms/step - loss: 3.9973 - acc: 0.0317 - val_loss: 3.5221 - val_acc: 0.1088\n",
      "Epoch 2/10\n",
      "75/75 [==============================] - 2s 30ms/step - loss: 3.5800 - acc: 0.4350 - val_loss: 3.0358 - val_acc: 0.6488\n",
      "Epoch 3/10\n",
      "75/75 [==============================] - 2s 32ms/step - loss: 2.9048 - acc: 0.7021 - val_loss: 2.0172 - val_acc: 0.6187\n",
      "Epoch 4/10\n",
      "75/75 [==============================] - 2s 32ms/step - loss: 1.5483 - acc: 0.7142 - val_loss: 1.3298 - val_acc: 0.6800\n",
      "Epoch 5/10\n",
      "75/75 [==============================] - 2s 30ms/step - loss: 1.1681 - acc: 0.7262 - val_loss: 1.2088 - val_acc: 0.6900\n",
      "Epoch 6/10\n",
      "75/75 [==============================] - 2s 31ms/step - loss: 1.0300 - acc: 0.7467 - val_loss: 1.0298 - val_acc: 0.7375\n",
      "Epoch 7/10\n",
      "75/75 [==============================] - 2s 32ms/step - loss: 0.8212 - acc: 0.7954 - val_loss: 0.9361 - val_acc: 0.7138\n",
      "Epoch 8/10\n",
      "75/75 [==============================] - 3s 34ms/step - loss: 0.8017 - acc: 0.7783 - val_loss: 0.9597 - val_acc: 0.7100\n",
      "Epoch 9/10\n",
      "75/75 [==============================] - 3s 35ms/step - loss: 0.7235 - acc: 0.7913 - val_loss: 0.8184 - val_acc: 0.7675\n",
      "Epoch 10/10\n",
      "75/75 [==============================] - 3s 35ms/step - loss: 0.6796 - acc: 0.8062 - val_loss: 0.9520 - val_acc: 0.7262\n",
      "Training took 24.737325 s\n"
     ]
    }
   ],
   "source": [
    "from text_recognizer.train.util import train_model\n",
    "\n",
    "history = train_model(\n",
    "    model=model.model,\n",
    "    x_train=dataset.x_train[:100],\n",
    "    y_train=dataset.y_train[:100],\n",
    "    epochs=10,\n",
    "    batch_size=32,\n",
    "    loss='categorical_crossentropy'\n",
    ")"
   ]
  },
  {
   "cell_type": "code",
   "execution_count": 40,
   "metadata": {},
   "outputs": [
    {
     "name": "stderr",
     "output_type": "stream",
     "text": [
      "[autoreload of numpy.lib failed: Traceback (most recent call last):\n",
      "  File \"/Users/sergeyk/.local/share/virtualenvs/fsdl-text-recognizer-2EnXq1R6/lib/python3.6/site-packages/IPython/extensions/autoreload.py\", line 245, in check\n",
      "    superreload(m, reload, self.old_objects)\n",
      "  File \"/Users/sergeyk/.local/share/virtualenvs/fsdl-text-recognizer-2EnXq1R6/lib/python3.6/site-packages/IPython/extensions/autoreload.py\", line 368, in superreload\n",
      "    module = reload(module)\n",
      "  File \"/Users/sergeyk/.local/share/virtualenvs/fsdl-text-recognizer-2EnXq1R6/lib/python3.6/imp.py\", line 315, in reload\n",
      "    return importlib.reload(module)\n",
      "  File \"/Users/sergeyk/.local/share/virtualenvs/fsdl-text-recognizer-2EnXq1R6/lib/python3.6/importlib/__init__.py\", line 166, in reload\n",
      "    _bootstrap._exec(spec, module)\n",
      "  File \"<frozen importlib._bootstrap>\", line 618, in _exec\n",
      "  File \"<frozen importlib._bootstrap_external>\", line 678, in exec_module\n",
      "  File \"<frozen importlib._bootstrap>\", line 219, in _call_with_frames_removed\n",
      "  File \"/Users/sergeyk/.local/share/virtualenvs/fsdl-text-recognizer-2EnXq1R6/lib/python3.6/site-packages/numpy/lib/__init__.py\", line 32, in <module>\n",
      "    __all__ += type_check.__all__\n",
      "NameError: name 'type_check' is not defined\n",
      "]\n",
      "[autoreload of numpy.core.numerictypes failed: Traceback (most recent call last):\n",
      "  File \"/Users/sergeyk/.local/share/virtualenvs/fsdl-text-recognizer-2EnXq1R6/lib/python3.6/site-packages/IPython/extensions/autoreload.py\", line 245, in check\n",
      "    superreload(m, reload, self.old_objects)\n",
      "  File \"/Users/sergeyk/.local/share/virtualenvs/fsdl-text-recognizer-2EnXq1R6/lib/python3.6/site-packages/IPython/extensions/autoreload.py\", line 368, in superreload\n",
      "    module = reload(module)\n",
      "  File \"/Users/sergeyk/.local/share/virtualenvs/fsdl-text-recognizer-2EnXq1R6/lib/python3.6/imp.py\", line 315, in reload\n",
      "    return importlib.reload(module)\n",
      "  File \"/Users/sergeyk/.local/share/virtualenvs/fsdl-text-recognizer-2EnXq1R6/lib/python3.6/importlib/__init__.py\", line 166, in reload\n",
      "    _bootstrap._exec(spec, module)\n",
      "  File \"<frozen importlib._bootstrap>\", line 618, in _exec\n",
      "  File \"<frozen importlib._bootstrap_external>\", line 678, in exec_module\n",
      "  File \"<frozen importlib._bootstrap>\", line 219, in _call_with_frames_removed\n",
      "  File \"/Users/sergeyk/.local/share/virtualenvs/fsdl-text-recognizer-2EnXq1R6/lib/python3.6/site-packages/numpy/core/numerictypes.py\", line 297, in <module>\n",
      "    _add_types()\n",
      "  File \"/Users/sergeyk/.local/share/virtualenvs/fsdl-text-recognizer-2EnXq1R6/lib/python3.6/site-packages/numpy/core/numerictypes.py\", line 290, in _add_types\n",
      "    allTypes[name] = info.type\n",
      "AttributeError: 'tuple' object has no attribute 'type'\n",
      "]\n",
      "[autoreload of numpy.testing failed: Traceback (most recent call last):\n",
      "  File \"/Users/sergeyk/.local/share/virtualenvs/fsdl-text-recognizer-2EnXq1R6/lib/python3.6/site-packages/IPython/extensions/autoreload.py\", line 245, in check\n",
      "    superreload(m, reload, self.old_objects)\n",
      "  File \"/Users/sergeyk/.local/share/virtualenvs/fsdl-text-recognizer-2EnXq1R6/lib/python3.6/site-packages/IPython/extensions/autoreload.py\", line 368, in superreload\n",
      "    module = reload(module)\n",
      "  File \"/Users/sergeyk/.local/share/virtualenvs/fsdl-text-recognizer-2EnXq1R6/lib/python3.6/imp.py\", line 315, in reload\n",
      "    return importlib.reload(module)\n",
      "  File \"/Users/sergeyk/.local/share/virtualenvs/fsdl-text-recognizer-2EnXq1R6/lib/python3.6/importlib/__init__.py\", line 166, in reload\n",
      "    _bootstrap._exec(spec, module)\n",
      "  File \"<frozen importlib._bootstrap>\", line 618, in _exec\n",
      "  File \"<frozen importlib._bootstrap_external>\", line 678, in exec_module\n",
      "  File \"<frozen importlib._bootstrap>\", line 219, in _call_with_frames_removed\n",
      "  File \"/Users/sergeyk/.local/share/virtualenvs/fsdl-text-recognizer-2EnXq1R6/lib/python3.6/site-packages/numpy/testing/__init__.py\", line 18, in <module>\n",
      "    __all__ = _private.utils.__all__ + ['TestCase', 'run_module_suite']\n",
      "NameError: name '_private' is not defined\n",
      "]\n",
      "[autoreload of numpy.lib.index_tricks failed: Traceback (most recent call last):\n",
      "  File \"/Users/sergeyk/.local/share/virtualenvs/fsdl-text-recognizer-2EnXq1R6/lib/python3.6/site-packages/IPython/extensions/autoreload.py\", line 245, in check\n",
      "    superreload(m, reload, self.old_objects)\n",
      "  File \"/Users/sergeyk/.local/share/virtualenvs/fsdl-text-recognizer-2EnXq1R6/lib/python3.6/site-packages/IPython/extensions/autoreload.py\", line 368, in superreload\n",
      "    module = reload(module)\n",
      "  File \"/Users/sergeyk/.local/share/virtualenvs/fsdl-text-recognizer-2EnXq1R6/lib/python3.6/imp.py\", line 315, in reload\n",
      "    return importlib.reload(module)\n",
      "  File \"/Users/sergeyk/.local/share/virtualenvs/fsdl-text-recognizer-2EnXq1R6/lib/python3.6/importlib/__init__.py\", line 166, in reload\n",
      "    _bootstrap._exec(spec, module)\n",
      "  File \"<frozen importlib._bootstrap>\", line 618, in _exec\n",
      "  File \"<frozen importlib._bootstrap_external>\", line 678, in exec_module\n",
      "  File \"<frozen importlib._bootstrap>\", line 219, in _call_with_frames_removed\n",
      "  File \"/Users/sergeyk/.local/share/virtualenvs/fsdl-text-recognizer-2EnXq1R6/lib/python3.6/site-packages/numpy/lib/index_tricks.py\", line 13, in <module>\n",
      "    import numpy.matrixlib as matrixlib\n",
      "AttributeError: module 'numpy' has no attribute 'matrixlib'\n",
      "]\n",
      "[autoreload of numpy.matrixlib failed: Traceback (most recent call last):\n",
      "  File \"/Users/sergeyk/.local/share/virtualenvs/fsdl-text-recognizer-2EnXq1R6/lib/python3.6/site-packages/IPython/extensions/autoreload.py\", line 245, in check\n",
      "    superreload(m, reload, self.old_objects)\n",
      "  File \"/Users/sergeyk/.local/share/virtualenvs/fsdl-text-recognizer-2EnXq1R6/lib/python3.6/site-packages/IPython/extensions/autoreload.py\", line 368, in superreload\n",
      "    module = reload(module)\n",
      "  File \"/Users/sergeyk/.local/share/virtualenvs/fsdl-text-recognizer-2EnXq1R6/lib/python3.6/imp.py\", line 315, in reload\n",
      "    return importlib.reload(module)\n",
      "  File \"/Users/sergeyk/.local/share/virtualenvs/fsdl-text-recognizer-2EnXq1R6/lib/python3.6/importlib/__init__.py\", line 166, in reload\n",
      "    _bootstrap._exec(spec, module)\n",
      "  File \"<frozen importlib._bootstrap>\", line 618, in _exec\n",
      "  File \"<frozen importlib._bootstrap_external>\", line 678, in exec_module\n",
      "  File \"<frozen importlib._bootstrap>\", line 219, in _call_with_frames_removed\n",
      "  File \"/Users/sergeyk/.local/share/virtualenvs/fsdl-text-recognizer-2EnXq1R6/lib/python3.6/site-packages/numpy/matrixlib/__init__.py\", line 8, in <module>\n",
      "    __all__ = defmatrix.__all__\n",
      "NameError: name 'defmatrix' is not defined\n",
      "]\n",
      "[autoreload of numpy.lib.scimath failed: Traceback (most recent call last):\n",
      "  File \"/Users/sergeyk/.local/share/virtualenvs/fsdl-text-recognizer-2EnXq1R6/lib/python3.6/site-packages/IPython/extensions/autoreload.py\", line 245, in check\n",
      "    superreload(m, reload, self.old_objects)\n",
      "  File \"/Users/sergeyk/.local/share/virtualenvs/fsdl-text-recognizer-2EnXq1R6/lib/python3.6/site-packages/IPython/extensions/autoreload.py\", line 368, in superreload\n",
      "    module = reload(module)\n",
      "  File \"/Users/sergeyk/.local/share/virtualenvs/fsdl-text-recognizer-2EnXq1R6/lib/python3.6/imp.py\", line 315, in reload\n",
      "    return importlib.reload(module)\n",
      "  File \"/Users/sergeyk/.local/share/virtualenvs/fsdl-text-recognizer-2EnXq1R6/lib/python3.6/importlib/__init__.py\", line 166, in reload\n",
      "    _bootstrap._exec(spec, module)\n",
      "  File \"<frozen importlib._bootstrap>\", line 618, in _exec\n",
      "  File \"<frozen importlib._bootstrap_external>\", line 678, in exec_module\n",
      "  File \"<frozen importlib._bootstrap>\", line 219, in _call_with_frames_removed\n",
      "  File \"/Users/sergeyk/.local/share/virtualenvs/fsdl-text-recognizer-2EnXq1R6/lib/python3.6/site-packages/numpy/lib/scimath.py\", line 21, in <module>\n",
      "    import numpy.core.numerictypes as nt\n",
      "AttributeError: module 'numpy.core' has no attribute 'numerictypes'\n",
      "]\n",
      "[autoreload of numpy.polynomial.polynomial failed: Traceback (most recent call last):\n",
      "  File \"/Users/sergeyk/.local/share/virtualenvs/fsdl-text-recognizer-2EnXq1R6/lib/python3.6/site-packages/IPython/extensions/autoreload.py\", line 245, in check\n",
      "    superreload(m, reload, self.old_objects)\n",
      "  File \"/Users/sergeyk/.local/share/virtualenvs/fsdl-text-recognizer-2EnXq1R6/lib/python3.6/site-packages/IPython/extensions/autoreload.py\", line 384, in superreload\n",
      "    update_generic(old_obj, new_obj)\n",
      "  File \"/Users/sergeyk/.local/share/virtualenvs/fsdl-text-recognizer-2EnXq1R6/lib/python3.6/site-packages/IPython/extensions/autoreload.py\", line 323, in update_generic\n",
      "    update(a, b)\n",
      "  File \"/Users/sergeyk/.local/share/virtualenvs/fsdl-text-recognizer-2EnXq1R6/lib/python3.6/site-packages/IPython/extensions/autoreload.py\", line 278, in update_class\n",
      "    if old_obj == new_obj:\n",
      "ValueError: The truth value of an array with more than one element is ambiguous. Use a.any() or a.all()\n",
      "]\n",
      "[autoreload of numpy.polynomial.chebyshev failed: Traceback (most recent call last):\n",
      "  File \"/Users/sergeyk/.local/share/virtualenvs/fsdl-text-recognizer-2EnXq1R6/lib/python3.6/site-packages/IPython/extensions/autoreload.py\", line 245, in check\n",
      "    superreload(m, reload, self.old_objects)\n",
      "  File \"/Users/sergeyk/.local/share/virtualenvs/fsdl-text-recognizer-2EnXq1R6/lib/python3.6/site-packages/IPython/extensions/autoreload.py\", line 384, in superreload\n",
      "    update_generic(old_obj, new_obj)\n",
      "  File \"/Users/sergeyk/.local/share/virtualenvs/fsdl-text-recognizer-2EnXq1R6/lib/python3.6/site-packages/IPython/extensions/autoreload.py\", line 323, in update_generic\n",
      "    update(a, b)\n",
      "  File \"/Users/sergeyk/.local/share/virtualenvs/fsdl-text-recognizer-2EnXq1R6/lib/python3.6/site-packages/IPython/extensions/autoreload.py\", line 278, in update_class\n",
      "    if old_obj == new_obj:\n",
      "ValueError: The truth value of an array with more than one element is ambiguous. Use a.any() or a.all()\n",
      "]\n",
      "[autoreload of numpy.polynomial.legendre failed: Traceback (most recent call last):\n",
      "  File \"/Users/sergeyk/.local/share/virtualenvs/fsdl-text-recognizer-2EnXq1R6/lib/python3.6/site-packages/IPython/extensions/autoreload.py\", line 245, in check\n",
      "    superreload(m, reload, self.old_objects)\n",
      "  File \"/Users/sergeyk/.local/share/virtualenvs/fsdl-text-recognizer-2EnXq1R6/lib/python3.6/site-packages/IPython/extensions/autoreload.py\", line 384, in superreload\n",
      "    update_generic(old_obj, new_obj)\n",
      "  File \"/Users/sergeyk/.local/share/virtualenvs/fsdl-text-recognizer-2EnXq1R6/lib/python3.6/site-packages/IPython/extensions/autoreload.py\", line 323, in update_generic\n",
      "    update(a, b)\n",
      "  File \"/Users/sergeyk/.local/share/virtualenvs/fsdl-text-recognizer-2EnXq1R6/lib/python3.6/site-packages/IPython/extensions/autoreload.py\", line 278, in update_class\n",
      "    if old_obj == new_obj:\n",
      "ValueError: The truth value of an array with more than one element is ambiguous. Use a.any() or a.all()\n",
      "]\n",
      "[autoreload of numpy.polynomial.hermite failed: Traceback (most recent call last):\n",
      "  File \"/Users/sergeyk/.local/share/virtualenvs/fsdl-text-recognizer-2EnXq1R6/lib/python3.6/site-packages/IPython/extensions/autoreload.py\", line 245, in check\n",
      "    superreload(m, reload, self.old_objects)\n",
      "  File \"/Users/sergeyk/.local/share/virtualenvs/fsdl-text-recognizer-2EnXq1R6/lib/python3.6/site-packages/IPython/extensions/autoreload.py\", line 384, in superreload\n",
      "    update_generic(old_obj, new_obj)\n",
      "  File \"/Users/sergeyk/.local/share/virtualenvs/fsdl-text-recognizer-2EnXq1R6/lib/python3.6/site-packages/IPython/extensions/autoreload.py\", line 323, in update_generic\n",
      "    update(a, b)\n",
      "  File \"/Users/sergeyk/.local/share/virtualenvs/fsdl-text-recognizer-2EnXq1R6/lib/python3.6/site-packages/IPython/extensions/autoreload.py\", line 278, in update_class\n",
      "    if old_obj == new_obj:\n",
      "ValueError: The truth value of an array with more than one element is ambiguous. Use a.any() or a.all()\n",
      "]\n",
      "[autoreload of numpy.polynomial.hermite_e failed: Traceback (most recent call last):\n",
      "  File \"/Users/sergeyk/.local/share/virtualenvs/fsdl-text-recognizer-2EnXq1R6/lib/python3.6/site-packages/IPython/extensions/autoreload.py\", line 245, in check\n",
      "    superreload(m, reload, self.old_objects)\n",
      "  File \"/Users/sergeyk/.local/share/virtualenvs/fsdl-text-recognizer-2EnXq1R6/lib/python3.6/site-packages/IPython/extensions/autoreload.py\", line 384, in superreload\n",
      "    update_generic(old_obj, new_obj)\n",
      "  File \"/Users/sergeyk/.local/share/virtualenvs/fsdl-text-recognizer-2EnXq1R6/lib/python3.6/site-packages/IPython/extensions/autoreload.py\", line 323, in update_generic\n",
      "    update(a, b)\n",
      "  File \"/Users/sergeyk/.local/share/virtualenvs/fsdl-text-recognizer-2EnXq1R6/lib/python3.6/site-packages/IPython/extensions/autoreload.py\", line 278, in update_class\n",
      "    if old_obj == new_obj:\n",
      "ValueError: The truth value of an array with more than one element is ambiguous. Use a.any() or a.all()\n",
      "]\n",
      "[autoreload of numpy.polynomial.laguerre failed: Traceback (most recent call last):\n",
      "  File \"/Users/sergeyk/.local/share/virtualenvs/fsdl-text-recognizer-2EnXq1R6/lib/python3.6/site-packages/IPython/extensions/autoreload.py\", line 245, in check\n",
      "    superreload(m, reload, self.old_objects)\n",
      "  File \"/Users/sergeyk/.local/share/virtualenvs/fsdl-text-recognizer-2EnXq1R6/lib/python3.6/site-packages/IPython/extensions/autoreload.py\", line 384, in superreload\n",
      "    update_generic(old_obj, new_obj)\n",
      "  File \"/Users/sergeyk/.local/share/virtualenvs/fsdl-text-recognizer-2EnXq1R6/lib/python3.6/site-packages/IPython/extensions/autoreload.py\", line 323, in update_generic\n",
      "    update(a, b)\n",
      "  File \"/Users/sergeyk/.local/share/virtualenvs/fsdl-text-recognizer-2EnXq1R6/lib/python3.6/site-packages/IPython/extensions/autoreload.py\", line 278, in update_class\n",
      "    if old_obj == new_obj:\n",
      "ValueError: The truth value of an array with more than one element is ambiguous. Use a.any() or a.all()\n",
      "]\n",
      "[autoreload of numpy.ma.core failed: Traceback (most recent call last):\n",
      "  File \"/Users/sergeyk/.local/share/virtualenvs/fsdl-text-recognizer-2EnXq1R6/lib/python3.6/site-packages/IPython/extensions/autoreload.py\", line 245, in check\n",
      "    superreload(m, reload, self.old_objects)\n",
      "  File \"/Users/sergeyk/.local/share/virtualenvs/fsdl-text-recognizer-2EnXq1R6/lib/python3.6/site-packages/IPython/extensions/autoreload.py\", line 368, in superreload\n",
      "    module = reload(module)\n",
      "  File \"/Users/sergeyk/.local/share/virtualenvs/fsdl-text-recognizer-2EnXq1R6/lib/python3.6/imp.py\", line 315, in reload\n",
      "    return importlib.reload(module)\n",
      "  File \"/Users/sergeyk/.local/share/virtualenvs/fsdl-text-recognizer-2EnXq1R6/lib/python3.6/importlib/__init__.py\", line 166, in reload\n",
      "    _bootstrap._exec(spec, module)\n",
      "  File \"<frozen importlib._bootstrap>\", line 618, in _exec\n",
      "  File \"<frozen importlib._bootstrap_external>\", line 678, in exec_module\n",
      "  File \"<frozen importlib._bootstrap>\", line 219, in _call_with_frames_removed\n",
      "  File \"/Users/sergeyk/.local/share/virtualenvs/fsdl-text-recognizer-2EnXq1R6/lib/python3.6/site-packages/numpy/ma/core.py\", line 39, in <module>\n",
      "    import numpy.core.numerictypes as ntypes\n",
      "AttributeError: module 'numpy.core' has no attribute 'numerictypes'\n",
      "]\n"
     ]
    },
    {
     "data": {
      "text/plain": [
       "('h_chccht________________________', 0.37649465)"
      ]
     },
     "execution_count": 40,
     "metadata": {},
     "output_type": "execute_result"
    }
   ],
   "source": [
    "model.predict_on_image(dataset.x_test[0])"
   ]
  },
  {
   "cell_type": "code",
   "execution_count": 14,
   "metadata": {},
   "outputs": [
    {
     "ename": "AttributeError",
     "evalue": "'EmnistLinesDataset' object has no attribute 'emnist'",
     "output_type": "error",
     "traceback": [
      "\u001b[0;31m---------------------------------------------------------------------------\u001b[0m",
      "\u001b[0;31mAttributeError\u001b[0m                            Traceback (most recent call last)",
      "\u001b[0;32m<ipython-input-14-41647b924a01>\u001b[0m in \u001b[0;36m<module>\u001b[0;34m()\u001b[0m\n\u001b[1;32m      3\u001b[0m \u001b[0;34m\u001b[0m\u001b[0m\n\u001b[1;32m      4\u001b[0m \u001b[0mplt\u001b[0m\u001b[0;34m.\u001b[0m\u001b[0mmatshow\u001b[0m\u001b[0;34m(\u001b[0m\u001b[0mdataset\u001b[0m\u001b[0;34m.\u001b[0m\u001b[0mx_test\u001b[0m\u001b[0;34m[\u001b[0m\u001b[0;36m0\u001b[0m\u001b[0;34m]\u001b[0m\u001b[0;34m)\u001b[0m\u001b[0;34m\u001b[0m\u001b[0m\n\u001b[0;32m----> 5\u001b[0;31m \u001b[0mconvert_preds_to_string\u001b[0m\u001b[0;34m(\u001b[0m\u001b[0mmodel\u001b[0m\u001b[0;34m.\u001b[0m\u001b[0mmodel\u001b[0m\u001b[0;34m.\u001b[0m\u001b[0mpredict\u001b[0m\u001b[0;34m(\u001b[0m\u001b[0mnp\u001b[0m\u001b[0;34m.\u001b[0m\u001b[0mexpand_dims\u001b[0m\u001b[0;34m(\u001b[0m\u001b[0mdataset\u001b[0m\u001b[0;34m.\u001b[0m\u001b[0mx_test\u001b[0m\u001b[0;34m[\u001b[0m\u001b[0;36m0\u001b[0m\u001b[0;34m]\u001b[0m\u001b[0;34m,\u001b[0m \u001b[0;36m0\u001b[0m\u001b[0;34m)\u001b[0m\u001b[0;34m,\u001b[0m \u001b[0mdataset\u001b[0m\u001b[0;34m.\u001b[0m\u001b[0memnist\u001b[0m\u001b[0;34m.\u001b[0m\u001b[0mmapping\u001b[0m\u001b[0;34m)\u001b[0m\u001b[0;34m)\u001b[0m\u001b[0;34m\u001b[0m\u001b[0m\n\u001b[0m",
      "\u001b[0;31mAttributeError\u001b[0m: 'EmnistLinesDataset' object has no attribute 'emnist'"
     ]
    },
    {
     "data": {
      "image/png": "[encoded data removed]",
      "text/plain": [
       "<Figure size 1152x144 with 1 Axes>"
      ]
     },
     "metadata": {},
     "output_type": "display_data"
    }
   ],
   "source": [
    "def convert_preds_to_string(preds, mapping):\n",
    "    return ''.join(mapping[label] for label in np.argmax(preds, axis=-1).flatten()).strip()\n",
    "\n",
    "plt.matshow(dataset.x_test[0])\n",
    "convert_preds_to_string(model.model.predict(np.expand_dims(dataset.x_test[0], 0), dataset.mapping))"
   ]
  },
  {
   "cell_type": "code",
   "execution_count": null,
   "metadata": {},
   "outputs": [],
   "source": []
  }
 ],
 "metadata": {
  "kernelspec": {
   "display_name": "Python 3",
   "language": "python",
   "name": "python3"
  },
  "language_info": {
   "codemirror_mode": {
    "name": "ipython",
    "version": 3
   },
   "file_extension": ".py",
   "mimetype": "text/x-python",
   "name": "python",
   "nbconvert_exporter": "python",
   "pygments_lexer": "ipython3",
   "version": "3.6.6"
  }
 },
 "nbformat": 4,
 "nbformat_minor": 2
}
