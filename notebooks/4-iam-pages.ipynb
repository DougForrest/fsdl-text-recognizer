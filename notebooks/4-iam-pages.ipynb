{
 "cells": [
  {
   "cell_type": "code",
   "execution_count": 4,
   "metadata": {},
   "outputs": [],
   "source": [
    "from pathlib import Path\n",
    "DATA_DIRNAME = Path('/Users/sergeyk/Downloads/iamdb')"
   ]
  },
  {
   "cell_type": "code",
   "execution_count": 90,
   "metadata": {},
   "outputs": [],
   "source": [
    "import xml.etree.ElementTree as ElementTree\n",
    "\n",
    "DOWNSAMPLE_FACTOR = 2\n",
    "\n",
    "def get_line_region(line, downsample_factor=DOWNSAMPLE_FACTOR):\n",
    "    \"\"\"\n",
    "    line (xml element): has x, y, width, and height attributes\n",
    "    downsample_factor (int): if images were downsampled, the regions must be, too\n",
    "    \"\"\"\n",
    "    x1s = [int(el.attrib['x']) for el in line.findall('word/cmp')]\n",
    "    y1s = [int(el.attrib['y']) for el in line.findall('word/cmp')]\n",
    "    x2s = [int(el.attrib['x']) + int(el.attrib['width']) for el in line.findall('word/cmp')]\n",
    "    y2s = [int(el.attrib['y']) + int(el.attrib['height']) for el in line.findall('word/cmp')]\n",
    "    x1, y1, x2, y2 = min(x1s), min(y1s), max(x2s), max(y2s)\n",
    "    return {\n",
    "        'x1': x1 // DOWNSAMPLE_FACTOR,\n",
    "        'y1': y1 // DOWNSAMPLE_FACTOR,\n",
    "        'x2': x2 // DOWNSAMPLE_FACTOR,\n",
    "        'y2': y2 // DOWNSAMPLE_FACTOR\n",
    "    }\n",
    "\n",
    "def get_regions_from_xml(filename):\n",
    "    root = ElementTree.parse(filename).getroot()\n",
    "    lines = root.findall('handwritten-part/line')\n",
    "    regions = list(map(get_line_region, lines))\n",
    "    return regions\n",
    "\n",
    "filenames = (DATA_DIRNAME / 'xml').glob('*.xml')\n",
    "regions_by_name = {\n",
    "    filename.stem: get_regions_from_xml(filename)\n",
    "    for filename in filenames\n",
    "}"
   ]
  },
  {
   "cell_type": "code",
   "execution_count": 82,
   "metadata": {},
   "outputs": [
    {
     "data": {
      "text/plain": [
       "13"
      ]
     },
     "execution_count": 82,
     "metadata": {},
     "output_type": "execute_result"
    }
   ],
   "source": [
    "max_num_lines_by_name = max(len(v) for v in regions_by_name.values())\n",
    "max_num_lines_by_name"
   ]
  },
  {
   "cell_type": "code",
   "execution_count": null,
   "metadata": {},
   "outputs": [],
   "source": [
    "import cv2\n",
    "import numpy as np\n",
    "import matplotlib.pyplot as plt\n",
    "from matplotlib import cm\n",
    "%matplotlib inline"
   ]
  },
  {
   "cell_type": "code",
   "execution_count": 162,
   "metadata": {},
   "outputs": [
    {
     "name": "stdout",
     "output_type": "stream",
     "text": [
      "Max dims are 310 width and 392 height\n"
     ]
    }
   ],
   "source": [
    "# Crop and further resize images\n",
    "\n",
    "BUFFER = 50\n",
    "DOWNSAMPLE_FACTOR = 4\n",
    "\n",
    "filenames = list((DATA_DIRNAME / 'forms-resized').glob('*.jpg'))\n",
    "heights = []\n",
    "for region in regions_by_name.values():\n",
    "    min_y1 = min(r['y1'] // DOWNSAMPLE_FACTOR for r in regions) - BUFFER\n",
    "    max_y2 = max(r['y2'] // DOWNSAMPLE_FACTOR for r in regions) + BUFFER\n",
    "    height = max_y2 - min_y1\n",
    "    heights.append(height)\n",
    "    \n",
    "max_width = 1240 // DOWNSAMPLE_FACTOR\n",
    "max_height = max(heights)\n",
    "print(f'Max dims are {max_width} width and {max_height} height')"
   ]
  },
  {
   "cell_type": "code",
   "execution_count": 164,
   "metadata": {},
   "outputs": [
    {
     "name": "stdout",
     "output_type": "stream",
     "text": [
      "Rescued\n"
     ]
    },
    {
     "ename": "ValueError",
     "evalue": "could not broadcast input array from shape (246,309) into shape (247,310)",
     "output_type": "error",
     "traceback": [
      "\u001b[0;31m---------------------------------------------------------------------------\u001b[0m",
      "\u001b[0;31mValueError\u001b[0m                                Traceback (most recent call last)",
      "\u001b[0;32m<ipython-input-164-4a3b409021bc>\u001b[0m in \u001b[0;36mwrite_cropped_and_gt_image\u001b[0;34m(name, regions_by_name, max_height, downsample_factor)\u001b[0m\n\u001b[1;32m     18\u001b[0m     \u001b[0;32mtry\u001b[0m\u001b[0;34m:\u001b[0m\u001b[0;34m\u001b[0m\u001b[0;34m\u001b[0m\u001b[0m\n\u001b[0;32m---> 19\u001b[0;31m         \u001b[0mform_image_crop\u001b[0m\u001b[0;34m[\u001b[0m\u001b[0;34m:\u001b[0m\u001b[0;34m(\u001b[0m\u001b[0mmax_y2\u001b[0m \u001b[0;34m-\u001b[0m \u001b[0mmin_y1\u001b[0m\u001b[0;34m)\u001b[0m\u001b[0;34m]\u001b[0m \u001b[0;34m=\u001b[0m \u001b[0mform_image\u001b[0m\u001b[0;34m[\u001b[0m\u001b[0mmin_y1\u001b[0m\u001b[0;34m:\u001b[0m\u001b[0mmax_y2\u001b[0m\u001b[0;34m]\u001b[0m\u001b[0;34m\u001b[0m\u001b[0;34m\u001b[0m\u001b[0m\n\u001b[0m\u001b[1;32m     20\u001b[0m     \u001b[0;32mexcept\u001b[0m\u001b[0;34m:\u001b[0m\u001b[0;34m\u001b[0m\u001b[0;34m\u001b[0m\u001b[0m\n",
      "\u001b[0;31mValueError\u001b[0m: could not broadcast input array from shape (247,309) into shape (247,310)",
      "\nDuring handling of the above exception, another exception occurred:\n",
      "\u001b[0;31mValueError\u001b[0m                                Traceback (most recent call last)",
      "\u001b[0;32m<ipython-input-164-4a3b409021bc>\u001b[0m in \u001b[0;36m<module>\u001b[0;34m\u001b[0m\n\u001b[1;32m     47\u001b[0m \u001b[0;34m\u001b[0m\u001b[0m\n\u001b[1;32m     48\u001b[0m \u001b[0;32mfor\u001b[0m \u001b[0mfilename\u001b[0m \u001b[0;32min\u001b[0m \u001b[0mfilenames\u001b[0m\u001b[0;34m:\u001b[0m\u001b[0;34m\u001b[0m\u001b[0;34m\u001b[0m\u001b[0m\n\u001b[0;32m---> 49\u001b[0;31m     \u001b[0mwrite_cropped_and_gt_image\u001b[0m\u001b[0;34m(\u001b[0m\u001b[0mfilename\u001b[0m\u001b[0;34m.\u001b[0m\u001b[0mstem\u001b[0m\u001b[0;34m,\u001b[0m \u001b[0mregions_by_name\u001b[0m\u001b[0;34m,\u001b[0m \u001b[0mmax_height\u001b[0m\u001b[0;34m,\u001b[0m \u001b[0mDOWNSAMPLE_FACTOR\u001b[0m\u001b[0;34m)\u001b[0m\u001b[0;34m\u001b[0m\u001b[0;34m\u001b[0m\u001b[0m\n\u001b[0m",
      "\u001b[0;32m<ipython-input-164-4a3b409021bc>\u001b[0m in \u001b[0;36mwrite_cropped_and_gt_image\u001b[0;34m(name, regions_by_name, max_height, downsample_factor)\u001b[0m\n\u001b[1;32m     20\u001b[0m     \u001b[0;32mexcept\u001b[0m\u001b[0;34m:\u001b[0m\u001b[0;34m\u001b[0m\u001b[0;34m\u001b[0m\u001b[0m\n\u001b[1;32m     21\u001b[0m         \u001b[0mprint\u001b[0m\u001b[0;34m(\u001b[0m\u001b[0;34m'Rescued'\u001b[0m\u001b[0;34m)\u001b[0m\u001b[0;34m\u001b[0m\u001b[0;34m\u001b[0m\u001b[0m\n\u001b[0;32m---> 22\u001b[0;31m         \u001b[0mform_image_crop\u001b[0m\u001b[0;34m[\u001b[0m\u001b[0;34m:\u001b[0m\u001b[0;34m(\u001b[0m\u001b[0mmax_y2\u001b[0m \u001b[0;34m-\u001b[0m \u001b[0mmin_y1\u001b[0m\u001b[0;34m)\u001b[0m\u001b[0;34m]\u001b[0m \u001b[0;34m=\u001b[0m \u001b[0mform_image\u001b[0m\u001b[0;34m[\u001b[0m\u001b[0mmin_y1\u001b[0m\u001b[0;34m:\u001b[0m\u001b[0mmax_y2\u001b[0m \u001b[0;34m-\u001b[0m \u001b[0;36m1\u001b[0m\u001b[0;34m]\u001b[0m\u001b[0;34m\u001b[0m\u001b[0;34m\u001b[0m\u001b[0m\n\u001b[0m\u001b[1;32m     23\u001b[0m     \u001b[0mcv2\u001b[0m\u001b[0;34m.\u001b[0m\u001b[0mimwrite\u001b[0m\u001b[0;34m(\u001b[0m\u001b[0mstr\u001b[0m\u001b[0;34m(\u001b[0m\u001b[0mCROP_OUTPUT_DIRNAME\u001b[0m \u001b[0;34m/\u001b[0m \u001b[0;34mf'{name}.jpg'\u001b[0m\u001b[0;34m)\u001b[0m\u001b[0;34m,\u001b[0m \u001b[0mform_image_crop\u001b[0m\u001b[0;34m)\u001b[0m\u001b[0;34m\u001b[0m\u001b[0;34m\u001b[0m\u001b[0m\n\u001b[1;32m     24\u001b[0m \u001b[0;34m\u001b[0m\u001b[0m\n",
      "\u001b[0;31mValueError\u001b[0m: could not broadcast input array from shape (246,309) into shape (247,310)"
     ]
    }
   ],
   "source": [
    "CROP_OUTPUT_DIRNAME = Path('/Users/sergeyk/Downloads/iamdb/forms-cropped')\n",
    "CROP_OUTPUT_DIRNAME.mkdir(exist_ok=True)\n",
    "GT_OUTPUT_DIRNAME = Path('/Users/sergeyk/Downloads/iamdb/forms-cropped-gt')\n",
    "GT_OUTPUT_DIRNAME.mkdir(exist_ok=True)\n",
    "DEBUG_OUTPUT_DIRNAME = Path('/Users/sergeyk/Downloads/iamdb/forms-cropped-debug')\n",
    "DEBUG_OUTPUT_DIRNAME.mkdir(exist_ok=True)\n",
    "\n",
    "def write_cropped_and_gt_image(name, regions_by_name, max_height, downsample_factor):\n",
    "    form_image = cv2.imread(str(DATA_DIRNAME / 'forms-resized' / f'{name}.jpg'), cv2.IMREAD_GRAYSCALE)\n",
    "    form_image = cv2.resize(form_image, (0,0), fx=1/downsample_factor, fy=1/downsample_factor) \n",
    "    regions = regions_by_name[name]\n",
    "    \n",
    "    min_y1 = min(r['y1'] // downsample_factor for r in regions) - BUFFER\n",
    "    max_y2 = max(r['y2'] // downsample_factor for r in regions) + BUFFER\n",
    "    \n",
    "    # Crop image\n",
    "    form_image_crop = 255 * np.ones((max_height, max_width), dtype=np.uint8)\n",
    "    try:\n",
    "        form_image_crop[:(max_y2 - min_y1)] = form_image[min_y1:max_y2]\n",
    "    except:\n",
    "        print('Rescued')\n",
    "        form_image_crop[:(max_y2 - min_y1)] = form_image[min_y1:max_y2 - 1]\n",
    "    cv2.imwrite(str(CROP_OUTPUT_DIRNAME / f'{name}.jpg'), form_image_crop)\n",
    "    \n",
    "    # GT image\n",
    "    gt_image = np.zeros_like(form_image_crop, dtype=np.uint8)\n",
    "    for ind, region in enumerate(regions):\n",
    "        gt_image[\n",
    "            (region['y1'] // downsample_factor - min_y1):(region['y2'] // downsample_factor - min_y1),\n",
    "            region['x1'] // downsample_factor:region['x2'] // downsample_factor\n",
    "        ] = ind + 1\n",
    "    cv2.imwrite(str(GT_OUTPUT_DIRNAME / f'{name}.png'), gt_image)\n",
    "    \n",
    "    # Debug image\n",
    "    cmap = plt.get_cmap('Set1')\n",
    "    form_image_crop = np.dstack([form_image_crop, form_image_crop, form_image_crop])\n",
    "    for ind, region in enumerate(regions):\n",
    "        color = [255 * _ for _ in cmap(ind)[:-1]]\n",
    "        cv2.rectangle(\n",
    "            form_image_crop,\n",
    "            (region['x1'] // downsample_factor, region['y1'] // downsample_factor - min_y1),\n",
    "            (region['x2'] // downsample_factor, region['y2'] // downsample_factor - min_y1),\n",
    "            color,\n",
    "            3\n",
    "        )\n",
    "    cv2.imwrite(str(DEBUG_OUTPUT_DIRNAME / f'{name}.png'), form_image_crop)\n",
    "\n",
    "for filename in filenames:\n",
    "    write_cropped_and_gt_image(filename.stem, regions_by_name, max_height, DOWNSAMPLE_FACTOR)"
   ]
  }
 ],
 "metadata": {
  "kernelspec": {
   "display_name": "Python 3",
   "language": "python",
   "name": "python3"
  },
  "language_info": {
   "codemirror_mode": {
    "name": "ipython",
    "version": 3
   },
   "file_extension": ".py",
   "mimetype": "text/x-python",
   "name": "python",
   "nbconvert_exporter": "python",
   "pygments_lexer": "ipython3",
   "version": "3.6.7"
  }
 },
 "nbformat": 4,
 "nbformat_minor": 2
}
