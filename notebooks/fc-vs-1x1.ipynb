{
 "cells": [
  {
   "cell_type": "code",
   "execution_count": 1,
   "metadata": {},
   "outputs": [],
   "source": [
    "import numpy as np\n",
    "from tensorflow.keras.layers import Average, Conv2D, Dense, Dropout, Flatten, Input, MaxPooling2D, Reshape, TimeDistributed\n",
    "from tensorflow.keras.models import Sequential\n",
    "from tensorflow.keras.models import Model as KerasModel\n",
    "\n",
    "\n",
    "\n",
    "import sys\n",
    "sys.path.append('..')\n",
    "\n",
    "from text_recognizer.datasets.emnist import EmnistDataset\n",
    "from text_recognizer.models.emnist_mlp import EmnistMlp\n",
    "from text_recognizer.train.util import evaluate_model, train_model\n",
    "\n",
    "%load_ext autoreload\n",
    "%autoreload 2"
   ]
  },
  {
   "cell_type": "code",
   "execution_count": 12,
   "metadata": {},
   "outputs": [
    {
     "name": "stdout",
     "output_type": "stream",
     "text": [
      "_________________________________________________________________\n",
      "Layer (type)                 Output Shape              Param #   \n",
      "=================================================================\n",
      "reshape_10 (Reshape)         (None, 28, 28, 1)         0         \n",
      "_________________________________________________________________\n",
      "conv2d_29 (Conv2D)           (None, 26, 26, 32)        320       \n",
      "_________________________________________________________________\n",
      "conv2d_30 (Conv2D)           (None, 24, 24, 64)        18496     \n",
      "_________________________________________________________________\n",
      "max_pooling2d_10 (MaxPooling (None, 12, 12, 64)        0         \n",
      "_________________________________________________________________\n",
      "flatten_6 (Flatten)          (None, 9216)              0         \n",
      "_________________________________________________________________\n",
      "dense_13 (Dense)             (None, 128)               1179776   \n",
      "_________________________________________________________________\n",
      "dense_14 (Dense)             (None, 65)                8385      \n",
      "=================================================================\n",
      "Total params: 1,206,977\n",
      "Trainable params: 1,206,977\n",
      "Non-trainable params: 0\n",
      "_________________________________________________________________\n",
      "Train on 750 samples, validate on 250 samples\n",
      "Epoch 1/5\n",
      "750/750 [==============================] - 1s 2ms/step - loss: 3.7611 - acc: 0.1360 - val_loss: 3.1200 - val_acc: 0.3280\n",
      "Epoch 2/5\n",
      "750/750 [==============================] - 1s 1ms/step - loss: 2.8711 - acc: 0.3213 - val_loss: 2.5300 - val_acc: 0.4440\n",
      "Epoch 3/5\n",
      "750/750 [==============================] - 1s 1ms/step - loss: 2.2384 - acc: 0.4693 - val_loss: 2.3280 - val_acc: 0.4400\n",
      "Epoch 4/5\n",
      "750/750 [==============================] - 1s 1ms/step - loss: 1.8684 - acc: 0.5333 - val_loss: 2.3040 - val_acc: 0.4320\n",
      "Epoch 5/5\n",
      "750/750 [==============================] - 1s 1ms/step - loss: 1.5507 - acc: 0.5920 - val_loss: 1.8764 - val_acc: 0.5760\n",
      "Training took 5.046652 s\n"
     ]
    },
    {
     "data": {
      "text/plain": [
       "<tensorflow.python.keras.callbacks.History at 0x129378e80>"
      ]
     },
     "execution_count": 12,
     "metadata": {},
     "output_type": "execute_result"
    }
   ],
   "source": [
    "# Simple lenet\n",
    "\n",
    "def lenet(image_height: int, image_width: int, num_classes: int):\n",
    "    model = Sequential()\n",
    "    model.add(Reshape((28, 28, 1), input_shape=(784,)))\n",
    "    model.add(Conv2D(32, kernel_size=(3, 3), activation='relu', input_shape=(image_height, image_width, 1)))\n",
    "    model.add(Conv2D(64, (3, 3), activation='relu'))\n",
    "    model.add(MaxPooling2D(pool_size=(2, 2)))\n",
    "    model.add(Flatten())\n",
    "    model.add(Dense(128, activation='relu'))\n",
    "    model.add(Dense(num_classes, activation='softmax'))\n",
    "    model.summary()\n",
    "    return model\n",
    "\n",
    "\n",
    "data = EmnistDataset()\n",
    "nn = lenet(28, 28, data.num_classes)\n",
    "train_model(\n",
    "    model=nn,\n",
    "    x_train=data.x_train[:1000],\n",
    "    y_train=data.y_train[:1000],\n",
    "    loss='categorical_crossentropy',\n",
    "    epochs=5,\n",
    "    batch_size=128\n",
    ")"
   ]
  },
  {
   "cell_type": "code",
   "execution_count": 13,
   "metadata": {},
   "outputs": [
    {
     "name": "stdout",
     "output_type": "stream",
     "text": [
      "_________________________________________________________________\n",
      "Layer (type)                 Output Shape              Param #   \n",
      "=================================================================\n",
      "reshape_11 (Reshape)         (None, 28, 28, 1)         0         \n",
      "_________________________________________________________________\n",
      "conv2d_31 (Conv2D)           (None, 26, 26, 32)        320       \n",
      "_________________________________________________________________\n",
      "conv2d_32 (Conv2D)           (None, 24, 24, 64)        18496     \n",
      "_________________________________________________________________\n",
      "max_pooling2d_11 (MaxPooling (None, 12, 12, 64)        0         \n",
      "_________________________________________________________________\n",
      "conv2d_33 (Conv2D)           (None, 1, 1, 128)         1179776   \n",
      "_________________________________________________________________\n",
      "conv2d_34 (Conv2D)           (None, 1, 1, 65)          8385      \n",
      "_________________________________________________________________\n",
      "flatten_7 (Flatten)          (None, 65)                0         \n",
      "=================================================================\n",
      "Total params: 1,206,977\n",
      "Trainable params: 1,206,977\n",
      "Non-trainable params: 0\n",
      "_________________________________________________________________\n",
      "Train on 750 samples, validate on 250 samples\n",
      "Epoch 1/5\n",
      "750/750 [==============================] - 2s 3ms/step - loss: 3.9013 - acc: 0.1240 - val_loss: 3.2481 - val_acc: 0.2120\n",
      "Epoch 2/5\n",
      "750/750 [==============================] - 1s 2ms/step - loss: 2.9934 - acc: 0.2933 - val_loss: 2.5309 - val_acc: 0.4200\n",
      "Epoch 3/5\n",
      "750/750 [==============================] - 1s 2ms/step - loss: 2.4092 - acc: 0.4027 - val_loss: 2.3222 - val_acc: 0.4680\n",
      "Epoch 4/5\n",
      "750/750 [==============================] - 1s 2ms/step - loss: 1.9067 - acc: 0.5187 - val_loss: 2.4310 - val_acc: 0.3760\n",
      "Epoch 5/5\n",
      "750/750 [==============================] - 1s 2ms/step - loss: 1.5524 - acc: 0.5867 - val_loss: 1.9620 - val_acc: 0.5360\n",
      "Training took 7.543406 s\n"
     ]
    },
    {
     "data": {
      "text/plain": [
       "<tensorflow.python.keras.callbacks.History at 0x1286d3f98>"
      ]
     },
     "execution_count": 13,
     "metadata": {},
     "output_type": "execute_result"
    }
   ],
   "source": [
    "# Replacing FCs with all convs\n",
    "\n",
    "def lenet2(image_height: int, image_width: int, num_classes: int):\n",
    "    model = Sequential()\n",
    "    model.add(Reshape((28, 28, 1), input_shape=(784,)))\n",
    "    model.add(Conv2D(32, kernel_size=(3, 3), activation='relu', input_shape=(image_height, image_width, 1)))\n",
    "    model.add(Conv2D(64, (3, 3), activation='relu'))\n",
    "    model.add(MaxPooling2D(pool_size=(2, 2)))\n",
    "    model.add(Conv2D(128, (12, 12), activation='relu'))\n",
    "    model.add(Conv2D(num_classes, (1, 1), activation='softmax'))\n",
    "    model.add(Flatten())\n",
    "    model.summary()\n",
    "    return model\n",
    "\n",
    "\n",
    "data = EmnistDataset()\n",
    "nn = lenet2(28, 28, data.num_classes)\n",
    "train_model(\n",
    "    model=nn,\n",
    "    x_train=data.x_train[:1000],\n",
    "    y_train=data.y_train[:1000],\n",
    "    loss='categorical_crossentropy',\n",
    "    epochs=5,\n",
    "    batch_size=128\n",
    ")"
   ]
  },
  {
   "cell_type": "code",
   "execution_count": 21,
   "metadata": {},
   "outputs": [
    {
     "name": "stdout",
     "output_type": "stream",
     "text": [
      "_________________________________________________________________\n",
      "Layer (type)                 Output Shape              Param #   \n",
      "=================================================================\n",
      "input_7 (InputLayer)         (None, 784)               0         \n",
      "_________________________________________________________________\n",
      "reshape_18 (Reshape)         (None, 2, 28, 14, 1)      0         \n",
      "_________________________________________________________________\n",
      "time_distributed_5 (TimeDist (None, 2, 65)             518849    \n",
      "_________________________________________________________________\n",
      "flatten_16 (Flatten)         (None, 130)               0         \n",
      "_________________________________________________________________\n",
      "dense_31 (Dense)             (None, 65)                8515      \n",
      "=================================================================\n",
      "Total params: 527,364\n",
      "Trainable params: 527,364\n",
      "Non-trainable params: 0\n",
      "_________________________________________________________________\n",
      "Train on 750 samples, validate on 250 samples\n",
      "Epoch 1/5\n",
      "750/750 [==============================] - 1s 2ms/step - loss: 4.1480 - acc: 0.0573 - val_loss: 4.0933 - val_acc: 0.0560\n",
      "Epoch 2/5\n",
      "750/750 [==============================] - 1s 867us/step - loss: 4.0878 - acc: 0.0733 - val_loss: 4.0602 - val_acc: 0.0880\n",
      "Epoch 3/5\n",
      "750/750 [==============================] - 1s 860us/step - loss: 4.0503 - acc: 0.1067 - val_loss: 4.0309 - val_acc: 0.1200\n",
      "Epoch 4/5\n",
      "750/750 [==============================] - 1s 882us/step - loss: 4.0210 - acc: 0.1373 - val_loss: 4.0197 - val_acc: 0.1400\n",
      "Epoch 5/5\n",
      "750/750 [==============================] - 1s 849us/step - loss: 4.0054 - acc: 0.1413 - val_loss: 4.0033 - val_acc: 0.1520\n",
      "Training took 4.321935 s\n"
     ]
    },
    {
     "data": {
      "text/plain": [
       "<tensorflow.python.keras.callbacks.History at 0x129ef20b8>"
      ]
     },
     "execution_count": 21,
     "metadata": {},
     "output_type": "execute_result"
    }
   ],
   "source": [
    "# Time-distributing lenet over two non-overlapping patches of the image\n",
    "\n",
    "def lenet_td(image_height: int, image_width: int, num_classes: int):\n",
    "    model = Sequential()\n",
    "    model.add(Conv2D(32, kernel_size=(3, 3), activation='relu'))\n",
    "    model.add(Conv2D(64, (3, 3), activation='relu'))\n",
    "    model.add(MaxPooling2D(pool_size=(2, 2)))\n",
    "    model.add(Flatten())\n",
    "    model.add(Dense(128, activation='relu'))\n",
    "    model.add(Dense(num_classes, activation='softmax'))\n",
    "    \n",
    "    inputs = Input(shape=(784,))\n",
    "    reshaped_inputs = Reshape((2, 28, 14, 1))(inputs)\n",
    "    td_outputs = TimeDistributed(model)(reshaped_inputs)\n",
    "    flat_td_outputs = Flatten()(td_outputs)\n",
    "    outputs = Dense(num_classes, activation='softmax')(flat_td_outputs)\n",
    "    model2 = KerasModel(inputs=inputs, outputs=outputs)\n",
    "    \n",
    "    model2.summary()\n",
    "    return model2\n",
    "\n",
    "\n",
    "data = EmnistDataset()\n",
    "nn = lenet_td(28, 28, data.num_classes)\n",
    "train_model(\n",
    "    model=nn,\n",
    "    x_train=data.x_train[:1000],\n",
    "    y_train=data.y_train[:1000],\n",
    "    loss='categorical_crossentropy',\n",
    "    epochs=5,\n",
    "    batch_size=128\n",
    ")"
   ]
  },
  {
   "cell_type": "code",
   "execution_count": 29,
   "metadata": {},
   "outputs": [
    {
     "name": "stdout",
     "output_type": "stream",
     "text": [
      "_________________________________________________________________\n",
      "Layer (type)                 Output Shape              Param #   \n",
      "=================================================================\n",
      "reshape_25 (Reshape)         (None, 56, 14, 1)         0         \n",
      "_________________________________________________________________\n",
      "conv2d_72 (Conv2D)           (None, 54, 12, 32)        320       \n",
      "_________________________________________________________________\n",
      "conv2d_73 (Conv2D)           (None, 52, 10, 64)        18496     \n",
      "_________________________________________________________________\n",
      "max_pooling2d_26 (MaxPooling (None, 26, 5, 64)         0         \n",
      "_________________________________________________________________\n",
      "conv2d_74 (Conv2D)           (None, 2, 1, 128)         532608    \n",
      "_________________________________________________________________\n",
      "conv2d_75 (Conv2D)           (None, 2, 1, 65)          8385      \n",
      "_________________________________________________________________\n",
      "flatten_21 (Flatten)         (None, 130)               0         \n",
      "_________________________________________________________________\n",
      "dense_33 (Dense)             (None, 65)                8515      \n",
      "=================================================================\n",
      "Total params: 568,324\n",
      "Trainable params: 568,324\n",
      "Non-trainable params: 0\n",
      "_________________________________________________________________\n",
      "Train on 750 samples, validate on 250 samples\n",
      "Epoch 1/5\n",
      "750/750 [==============================] - 2s 2ms/step - loss: 4.1408 - acc: 0.0373 - val_loss: 4.0930 - val_acc: 0.0560\n",
      "Epoch 2/5\n",
      "750/750 [==============================] - 1s 1ms/step - loss: 4.0855 - acc: 0.0520 - val_loss: 4.0685 - val_acc: 0.0480\n",
      "Epoch 3/5\n",
      "750/750 [==============================] - 1s 1ms/step - loss: 4.0608 - acc: 0.0453 - val_loss: 4.0573 - val_acc: 0.0400\n",
      "Epoch 4/5\n",
      "750/750 [==============================] - 1s 1ms/step - loss: 4.0437 - acc: 0.0467 - val_loss: 4.0374 - val_acc: 0.0480\n",
      "Epoch 00004: early stopping\n",
      "Training took 4.338544 s\n"
     ]
    },
    {
     "data": {
      "text/plain": [
       "<tensorflow.python.keras.callbacks.History at 0x13076b518>"
      ]
     },
     "execution_count": 29,
     "metadata": {},
     "output_type": "execute_result"
    }
   ],
   "source": [
    "# All-conv solution that does the same thing\n",
    "\n",
    "def lenet22(image_height: int, image_width: int, num_classes: int):\n",
    "    model = Sequential()\n",
    "    model.add(Reshape((56, 14, 1), input_shape=(784,)))\n",
    "    model.add(Conv2D(32, kernel_size=(3, 3), activation='relu', input_shape=(image_height, image_width, 1)))\n",
    "    model.add(Conv2D(64, (3, 3), activation='relu'))\n",
    "    model.add(MaxPooling2D(pool_size=(2, 2)))\n",
    "    model.add(Conv2D(128, (13, 5), strides=(13, 1), activation='relu'))\n",
    "    model.add(Conv2D(num_classes, (1, 1), activation='softmax'))\n",
    "    model.add(Flatten())\n",
    "    model.add(Dense(num_classes, activation='softmax'))\n",
    "    model.summary()\n",
    "    return model\n",
    "\n",
    "\n",
    "data = EmnistDataset()\n",
    "nn = lenet22(28, 28, data.num_classes)\n",
    "train_model(\n",
    "    model=nn,\n",
    "    x_train=data.x_train[:1000],\n",
    "    y_train=data.y_train[:1000],\n",
    "    loss='categorical_crossentropy',\n",
    "    epochs=5,\n",
    "    batch_size=128\n",
    ")"
   ]
  }
 ],
 "metadata": {
  "kernelspec": {
   "display_name": "Python 3",
   "language": "python",
   "name": "python3"
  },
  "language_info": {
   "codemirror_mode": {
    "name": "ipython",
    "version": 3
   },
   "file_extension": ".py",
   "mimetype": "text/x-python",
   "name": "python",
   "nbconvert_exporter": "python",
   "pygments_lexer": "ipython3",
   "version": "3.6.6"
  }
 },
 "nbformat": 4,
 "nbformat_minor": 2
}
