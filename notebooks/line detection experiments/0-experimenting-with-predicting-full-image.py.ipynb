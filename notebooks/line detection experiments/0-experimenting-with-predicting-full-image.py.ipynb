{
 "cells": [
  {
   "cell_type": "code",
   "execution_count": 1,
   "metadata": {},
   "outputs": [
    {
     "name": "stdout",
     "output_type": "stream",
     "text": [
      "(60, 20) (60, 20)\n"
     ]
    },
    {
     "data": {
      "text/plain": [
       "<matplotlib.image.AxesImage at 0x113476ba8>"
      ]
     },
     "execution_count": 1,
     "metadata": {},
     "output_type": "execute_result"
    },
    {
     "data": {
      "text/plain": [
       "<Figure size 432x288 with 0 Axes>"
      ]
     },
     "metadata": {},
     "output_type": "display_data"
    },
    {
     "data": {
      "image/png": "[encoded data removed]",
      "text/plain": [
       "<Figure size 288x864 with 1 Axes>"
      ]
     },
     "metadata": {
      "needs_background": "light"
     },
     "output_type": "display_data"
    },
    {
     "data": {
      "image/png": "[encoded data removed]",
      "text/plain": [
       "<Figure size 288x864 with 1 Axes>"
      ]
     },
     "metadata": {
      "needs_background": "light"
     },
     "output_type": "display_data"
    }
   ],
   "source": [
    "import numpy as np\n",
    "import matplotlib.pyplot as plt\n",
    "%matplotlib inline\n",
    "\n",
    "MAX_WIDTH = 20\n",
    "MAX_HEIGHT = 60\n",
    "MAX_NUM_REGIONS = 3\n",
    "REGION_HEIGHT = 5\n",
    "NUM_TO_GENERATE = 100\n",
    "    \n",
    "    \n",
    "def generate_regions(num_regions):\n",
    "    regions = []\n",
    "    min_height = 0\n",
    "    for ind in range(num_regions):\n",
    "        y1 = np.random.randint(min_height, MAX_HEIGHT - REGION_HEIGHT)\n",
    "        y2 = y1 + REGION_HEIGHT\n",
    "        if y2 >= MAX_HEIGHT - REGION_HEIGHT:\n",
    "            return False\n",
    "        regions.append((y1, y2))\n",
    "        min_height = y2\n",
    "    return regions\n",
    "\n",
    "\n",
    "def generate_input_and_gt():\n",
    "#     np.random.seed(42)\n",
    "    gt_image = np.zeros((MAX_HEIGHT, MAX_WIDTH), dtype=np.uint8)\n",
    "    num_regions = np.random.randint(MAX_NUM_REGIONS) + 1\n",
    "    regions = generate_regions(num_regions)\n",
    "    while not regions:\n",
    "        regions = generate_regions(num_regions)\n",
    "    for ind, region in enumerate(regions):\n",
    "        y1, y2 = region\n",
    "        gt_image[y1:y2] = ind + 1\n",
    "    input_image = gt_image > 0\n",
    "    return input_image, gt_image\n",
    "    \n",
    "    \n",
    "input_image, gt_image = generate_input_and_gt()\n",
    "print(input_image.shape, gt_image.shape)\n",
    "plt.figure()\n",
    "plt.matshow(input_image)\n",
    "plt.matshow(gt_image)"
   ]
  },
  {
   "cell_type": "code",
   "execution_count": 2,
   "metadata": {},
   "outputs": [
    {
     "name": "stdout",
     "output_type": "stream",
     "text": [
      "(64, 60, 20) (64, 1200, 4)\n"
     ]
    }
   ],
   "source": [
    "from tensorflow.keras.utils import to_categorical\n",
    "\n",
    "BATCH_SIZE = 64\n",
    "NUM_BATCHES = 1\n",
    "\n",
    "X = []\n",
    "Y = []\n",
    "for _ in range(BATCH_SIZE * NUM_BATCHES):\n",
    "    input_image, gt_image = generate_input_and_gt()\n",
    "    X.append(input_image)\n",
    "    Y.append(to_categorical(gt_image.flatten(), MAX_NUM_REGIONS + 1))\n",
    "X = np.array(X)\n",
    "Y = np.array(Y)\n",
    "print(X.shape, Y.shape)"
   ]
  },
  {
   "cell_type": "code",
   "execution_count": null,
   "metadata": {},
   "outputs": [],
   "source": [
    "# TODO\n",
    "\n",
    "class DataSequence(Sequence):\n",
    "    def __init__(self, x_set, y_set, batch_size):\n",
    "        self.x, self.y = x_set, y_set\n",
    "        self.batch_size = batch_size\n",
    "\n",
    "    def __len__(self):\n",
    "        return int(np.ceil(len(self.x) / float(self.batch_size)))\n",
    "\n",
    "    def __getitem__(self, idx):\n",
    "        batch_x = self.x[idx * self.batch_size:(idx + 1) * self.batch_size]\n",
    "        batch_y = self.y[idx * self.batch_size:(idx + 1) * self.batch_size]\n",
    "\n",
    "        return np.array([\n",
    "            resize(imread(file_name), (200, 200))\n",
    "               for file_name in batch_x]), np.array(batch_y)"
   ]
  },
  {
   "cell_type": "code",
   "execution_count": 21,
   "metadata": {
    "scrolled": false
   },
   "outputs": [
    {
     "name": "stdout",
     "output_type": "stream",
     "text": [
      "__________________________________________________________________________________________________\n",
      "Layer (type)                    Output Shape         Param #     Connected to                     \n",
      "==================================================================================================\n",
      "input_14 (InputLayer)           (None, 60, 20)       0                                            \n",
      "__________________________________________________________________________________________________\n",
      "lambda_13 (Lambda)              (None, 60, 20, 2)    0           input_14[0][0]                   \n",
      "__________________________________________________________________________________________________\n",
      "conv2d_57 (Conv2D)              (None, 60, 20, 32)   608         lambda_13[0][0]                  \n",
      "__________________________________________________________________________________________________\n",
      "conv2d_58 (Conv2D)              (None, 60, 20, 32)   9248        conv2d_57[0][0]                  \n",
      "__________________________________________________________________________________________________\n",
      "conv2d_59 (Conv2D)              (None, 60, 20, 4)    1156        conv2d_58[0][0]                  \n",
      "__________________________________________________________________________________________________\n",
      "concatenate_7 (Concatenate)     (None, 60, 20, 6)    0           lambda_13[0][0]                  \n",
      "                                                                 conv2d_59[0][0]                  \n",
      "__________________________________________________________________________________________________\n",
      "conv2d_60 (Conv2D)              (None, 60, 20, 32)   1760        concatenate_7[0][0]              \n",
      "__________________________________________________________________________________________________\n",
      "conv2d_61 (Conv2D)              (None, 60, 20, 32)   9248        conv2d_60[0][0]                  \n",
      "__________________________________________________________________________________________________\n",
      "conv2d_62 (Conv2D)              (None, 60, 20, 4)    1156        conv2d_61[0][0]                  \n",
      "__________________________________________________________________________________________________\n",
      "concatenate_8 (Concatenate)     (None, 60, 20, 6)    0           lambda_13[0][0]                  \n",
      "                                                                 conv2d_62[0][0]                  \n",
      "__________________________________________________________________________________________________\n",
      "conv2d_63 (Conv2D)              (None, 60, 20, 32)   1760        concatenate_8[0][0]              \n",
      "__________________________________________________________________________________________________\n",
      "conv2d_64 (Conv2D)              (None, 60, 20, 32)   9248        conv2d_63[0][0]                  \n",
      "__________________________________________________________________________________________________\n",
      "conv2d_65 (Conv2D)              (None, 60, 20, 4)    1156        conv2d_64[0][0]                  \n",
      "__________________________________________________________________________________________________\n",
      "concatenate_9 (Concatenate)     (None, 60, 20, 6)    0           lambda_13[0][0]                  \n",
      "                                                                 conv2d_65[0][0]                  \n",
      "__________________________________________________________________________________________________\n",
      "conv2d_66 (Conv2D)              (None, 60, 20, 32)   1760        concatenate_9[0][0]              \n",
      "__________________________________________________________________________________________________\n",
      "conv2d_67 (Conv2D)              (None, 60, 20, 32)   9248        conv2d_66[0][0]                  \n",
      "__________________________________________________________________________________________________\n",
      "conv2d_68 (Conv2D)              (None, 60, 20, 4)    1156        conv2d_67[0][0]                  \n",
      "__________________________________________________________________________________________________\n",
      "reshape_11 (Reshape)            (None, 1200, 4)      0           conv2d_68[0][0]                  \n",
      "==================================================================================================\n",
      "Total params: 47,504\n",
      "Trainable params: 47,504\n",
      "Non-trainable params: 0\n",
      "__________________________________________________________________________________________________\n",
      "(64, 60, 20) (64, 1200, 4)\n",
      "Epoch 1/10\n",
      "10/10 [==============================] - 7s 667ms/step - loss: 0.9505 - categorical_accuracy: 0.7576\n",
      "Epoch 2/10\n",
      "10/10 [==============================] - 6s 580ms/step - loss: 0.3491 - categorical_accuracy: 0.8896\n",
      "Epoch 3/10\n",
      "10/10 [==============================] - 6s 574ms/step - loss: 0.2029 - categorical_accuracy: 0.9119\n",
      "Epoch 4/10\n",
      "10/10 [==============================] - 6s 560ms/step - loss: 0.1772 - categorical_accuracy: 0.9190\n",
      "Epoch 5/10\n",
      "10/10 [==============================] - 6s 563ms/step - loss: 0.1595 - categorical_accuracy: 0.9274\n",
      "Epoch 6/10\n",
      "10/10 [==============================] - 6s 577ms/step - loss: 0.1538 - categorical_accuracy: 0.9300\n",
      "Epoch 7/10\n",
      "10/10 [==============================] - 6s 578ms/step - loss: 0.1373 - categorical_accuracy: 0.9373\n",
      "Epoch 8/10\n",
      "10/10 [==============================] - 6s 633ms/step - loss: 0.1306 - categorical_accuracy: 0.9413\n",
      "Epoch 9/10\n",
      "10/10 [==============================] - 6s 613ms/step - loss: 0.1280 - categorical_accuracy: 0.9411\n",
      "Epoch 10/10\n",
      "10/10 [==============================] - 6s 631ms/step - loss: 0.1190 - categorical_accuracy: 0.9456\n"
     ]
    },
    {
     "data": {
      "text/plain": [
       "<tensorflow.python.keras.callbacks.History at 0x145da8b70>"
      ]
     },
     "execution_count": 21,
     "metadata": {},
     "output_type": "execute_result"
    },
    {
     "data": {
      "image/png": "[encoded data removed]",
      "text/plain": [
       "<Figure size 288x864 with 2 Axes>"
      ]
     },
     "metadata": {
      "needs_background": "light"
     },
     "output_type": "display_data"
    }
   ],
   "source": [
    "from tensorflow.keras.models import Model\n",
    "from tensorflow.keras.layers import Concatenate, Conv2D, Dense, Flatten, Input, Lambda, LSTM, MaxPooling2D, Reshape\n",
    "from tensorflow.keras import backend as K\n",
    "import tensorflow as tf\n",
    "\n",
    "M = np.ones((MAX_HEIGHT, MAX_WIDTH))\n",
    "height = np.arange(MAX_HEIGHT) / MAX_HEIGHT\n",
    "M = M * np.expand_dims(height, 1)\n",
    "\n",
    "plt.matshow(M)\n",
    "plt.colorbar()\n",
    "\n",
    "M = M.reshape((1, MAX_HEIGHT, MAX_WIDTH, 1))\n",
    "M = K.variable(M)\n",
    "\n",
    "input_image = Input((MAX_HEIGHT, MAX_WIDTH))\n",
    "input_image_with_height = Lambda(\n",
    "    lambda x: K.concatenate(\n",
    "        [K.expand_dims(x, -1), tf.tile(M, (K.shape(x)[0], 1, 1, 1))],\n",
    "        axis=-1\n",
    "    )\n",
    ")(input_image)\n",
    "\n",
    "conv1 = Conv2D(32, kernel_size=(3, 3), dilation_rate=2, padding='same', activation='relu')(input_image_with_height)\n",
    "conv2 = Conv2D(32, kernel_size=(3, 3), dilation_rate=2, padding='same', activation='relu')(conv1)\n",
    "output_image = Conv2D(MAX_NUM_REGIONS + 1, kernel_size=(3, 3), dilation_rate=2, padding='same', activation='relu')(conv2)\n",
    "\n",
    "next_input_image = Concatenate()([input_image_with_height, output_image])\n",
    "conv3 = Conv2D(32, kernel_size=(3, 3), dilation_rate=2, padding='same', activation='relu')(next_input_image)\n",
    "conv4 = Conv2D(32, kernel_size=(3, 3), dilation_rate=2, padding='same', activation='relu')(conv3)\n",
    "output_image2 = Conv2D(MAX_NUM_REGIONS + 1, kernel_size=(3, 3), dilation_rate=2, padding='same', activation='relu')(conv4)\n",
    "\n",
    "next_input_image2 = Concatenate()([input_image_with_height, output_image2])\n",
    "conv5 = Conv2D(32, kernel_size=(3, 3), dilation_rate=2, padding='same', activation='relu')(next_input_image2)\n",
    "conv6 = Conv2D(32, kernel_size=(3, 3), dilation_rate=2, padding='same', activation='relu')(conv5)\n",
    "output_image3 = Conv2D(MAX_NUM_REGIONS + 1, kernel_size=(3, 3), dilation_rate=2, padding='same', activation='relu')(conv6)\n",
    "\n",
    "next_input_image3 = Concatenate()([input_image_with_height, output_image3])\n",
    "conv7 = Conv2D(32, kernel_size=(3, 3), dilation_rate=2, padding='same', activation='relu')(next_input_image3)\n",
    "conv8 = Conv2D(32, kernel_size=(3, 3), dilation_rate=2, padding='same', activation='relu')(conv7)\n",
    "output_image4 = Conv2D(MAX_NUM_REGIONS + 1, kernel_size=(3, 3), dilation_rate=2, padding='same', activation='softmax')(conv8)\n",
    "\n",
    "output_vector = Reshape((MAX_HEIGHT * MAX_WIDTH, MAX_NUM_REGIONS + 1))(output_image4)\n",
    "model = Model(inputs=input_image, outputs=output_vector)\n",
    "model.summary()\n",
    "\n",
    "model.compile(optimizer='rmsprop', loss='categorical_crossentropy', metrics=['categorical_accuracy'])\n",
    "print(X.shape, Y.shape)\n",
    "model.fit(x=X, y=Y, epochs=10, steps_per_epoch=10)"
   ]
  },
  {
   "cell_type": "code",
   "execution_count": 17,
   "metadata": {
    "scrolled": false
   },
   "outputs": [
    {
     "data": {
      "image/png": "[encoded data removed]",
      "text/plain": [
       "<Figure size 432x288 with 3 Axes>"
      ]
     },
     "metadata": {
      "needs_background": "light"
     },
     "output_type": "display_data"
    },
    {
     "data": {
      "image/png": "[encoded data removed]",
      "text/plain": [
       "<Figure size 432x288 with 3 Axes>"
      ]
     },
     "metadata": {
      "needs_background": "light"
     },
     "output_type": "display_data"
    },
    {
     "data": {
      "image/png": "[encoded data removed]",
      "text/plain": [
       "<Figure size 432x288 with 3 Axes>"
      ]
     },
     "metadata": {
      "needs_background": "light"
     },
     "output_type": "display_data"
    },
    {
     "data": {
      "image/png": "[encoded data removed]",
      "text/plain": [
       "<Figure size 432x288 with 3 Axes>"
      ]
     },
     "metadata": {
      "needs_background": "light"
     },
     "output_type": "display_data"
    },
    {
     "data": {
      "image/png": "[encoded data removed]",
      "text/plain": [
       "<Figure size 432x288 with 3 Axes>"
      ]
     },
     "metadata": {
      "needs_background": "light"
     },
     "output_type": "display_data"
    },
    {
     "data": {
      "image/png": "[encoded data removed]",
      "text/plain": [
       "<Figure size 432x288 with 3 Axes>"
      ]
     },
     "metadata": {
      "needs_background": "light"
     },
     "output_type": "display_data"
    },
    {
     "data": {
      "image/png": "[encoded data removed]",
      "text/plain": [
       "<Figure size 432x288 with 3 Axes>"
      ]
     },
     "metadata": {
      "needs_background": "light"
     },
     "output_type": "display_data"
    },
    {
     "data": {
      "image/png": "[encoded data removed]",
      "text/plain": [
       "<Figure size 432x288 with 3 Axes>"
      ]
     },
     "metadata": {
      "needs_background": "light"
     },
     "output_type": "display_data"
    },
    {
     "data": {
      "image/png": "[encoded data removed]",
      "text/plain": [
       "<Figure size 432x288 with 3 Axes>"
      ]
     },
     "metadata": {
      "needs_background": "light"
     },
     "output_type": "display_data"
    },
    {
     "data": {
      "image/png": "[encoded data removed]",
      "text/plain": [
       "<Figure size 432x288 with 3 Axes>"
      ]
     },
     "metadata": {
      "needs_background": "light"
     },
     "output_type": "display_data"
    }
   ],
   "source": [
    "def plot_gt_and_pred(ind):\n",
    "    sample_input = np.expand_dims(X[ind], 0)\n",
    "    gt = Y[ind].reshape(MAX_HEIGHT, MAX_WIDTH, -1).argmax(-1)\n",
    "    pred = model.predict(sample_input).reshape(MAX_HEIGHT, MAX_WIDTH, -1).argmax(-1)\n",
    "    fig = plt.figure()\n",
    "    ax1 = fig.add_subplot(131)\n",
    "    ax1.matshow(X[ind].squeeze())\n",
    "    ax2 = fig.add_subplot(132)\n",
    "    ax2.matshow(gt)\n",
    "    ax3 = fig.add_subplot(133)\n",
    "    ax3.matshow(pred)\n",
    "    \n",
    "for ind in range(10):\n",
    "    plot_gt_and_pred(ind)"
   ]
  },
  {
   "cell_type": "code",
   "execution_count": null,
   "metadata": {},
   "outputs": [],
   "source": []
  }
 ],
 "metadata": {
  "kernelspec": {
   "display_name": "Python 3",
   "language": "python",
   "name": "python3"
  },
  "language_info": {
   "codemirror_mode": {
    "name": "ipython",
    "version": 3
   },
   "file_extension": ".py",
   "mimetype": "text/x-python",
   "name": "python",
   "nbconvert_exporter": "python",
   "pygments_lexer": "ipython3",
   "version": "3.6.7"
  }
 },
 "nbformat": 4,
 "nbformat_minor": 2
}
